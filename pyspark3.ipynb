{
 "cells": [
  {
   "cell_type": "code",
   "execution_count": 5,
   "metadata": {},
   "outputs": [],
   "source": [
    "from pyspark.sql import SparkSession\n",
    "from pyspark.sql.functions import udf, col, size, explode, monotonically_increasing_id\n",
    "from pyspark.sql.types import ArrayType, StringType\n",
    "import numpy as np\n",
    "from sklearn.feature_extraction.text import CountVectorizer as CountVectorizer_sklearn\n",
    "from pyspark.ml.feature import CountVectorizer as CountVectorizer_pyspark\n",
    "from sklearn.metrics.pairwise import cosine_similarity\n",
    "from sentence_transformers import SentenceTransformer\n",
    "from bareunpy import Tagger\n",
    "import datetime\n",
    "import os\n",
    "import subprocess\n",
    "from pyarrow import fs\n",
    "import pyarrow as pa\n",
    "import pyarrow.parquet as pq\n",
    "\n",
    "classpath = subprocess.Popen([\"/home/ksk/hadoop/bin/hdfs\", \"classpath\", \"--glob\"], stdout=subprocess.PIPE).communicate()[0]\n",
    "os.environ[\"CLASSPATH\"] = classpath.decode(\"utf-8\")\n",
    "hdfs = fs.HadoopFileSystem(host='192.168.0.206', port=8020, user='ksk')\n",
    "\n",
    "# # SparkSession 시작\n",
    "# spark = SparkSession.builder \\\n",
    "#     .appName(\"gen\") \\\n",
    "#     .master(\"spark://master:7077\") \\\n",
    "#     .config(\"spark.driver.memory\", \"4g\") \\\n",
    "#     .config(\"spark.executor.memory\", \"4g\") \\\n",
    "#     .getOrCreate()\n",
    "\n",
    "import pyspark\n",
    "from pyspark.sql import SparkSession\n",
    "\n",
    "conf = pyspark.SparkConf().setAppName(\"gen\")\\\n",
    "        .setMaster(\"spark://master:7077\")\\\n",
    "        .set(\"spark.executor.instances\", \"2\")\\\n",
    "        .set(\"spark.jars\",\"/opt/spark/jars/mysql-connector-j-9.0.0.jar\")\n",
    "\n",
    "\n",
    "spark = SparkSession.builder.config(conf=conf).getOrCreate()"
   ]
  },
  {
   "cell_type": "code",
   "execution_count": 6,
   "metadata": {},
   "outputs": [],
   "source": [
    "# 모델 초기화\n",
    "model = SentenceTransformer('sentence-transformers/paraphrase-multilingual-MiniLM-L12-v2')\n",
    "model_broadcast = spark.sparkContext.broadcast(model)\n",
    "\n"
   ]
  },
  {
   "cell_type": "code",
   "execution_count": 19,
   "metadata": {},
   "outputs": [],
   "source": [
    "spark.stop()"
   ]
  },
  {
   "cell_type": "code",
   "execution_count": 7,
   "metadata": {},
   "outputs": [],
   "source": [
    "# Tagger를 초기화하는 함수\n",
    "def keyword_ext(texts):\n",
    "    tagger = Tagger('koba-Q2CYNCI-XZ7E7PI-X6YRKPY-K4Z2KMY')\n",
    "    model = model_broadcast.value\n",
    "    results = []\n",
    "   \n",
    "    for text in texts:\n",
    "        if text is None or not text.strip():\n",
    "            results.append([])\n",
    "            continue\n",
    "\n",
    "        tokenized_doc = tagger.pos(text)  # phrase 인수로 text를 전달\n",
    "        tokenized_nouns = ' '.join([word[0] for word in tokenized_doc if word[1] == 'NNG' or word[1] == 'NNP'])\n",
    "        if not tokenized_nouns.strip():\n",
    "            results.append([])\n",
    "            continue\n",
    "\n",
    "        # count = CountVectorizer_sklearn(ngram_range=(1, 1)).fit([tokenized_nouns])\n",
    "        # candidates = count.get_feature_names_out()\n",
    "        try:\n",
    "            count = CountVectorizer_sklearn(ngram_range=(1, 1)).fit([tokenized_nouns])\n",
    "            candidates = count.fit([tokenized_nouns]).get_feature_names_out()\n",
    "        except ValueError as e:\n",
    "            if str(e) == 'empty vocabulary; perhaps the documents only contain stop words':\n",
    "                results.append([])\n",
    "                continue\n",
    "            else:\n",
    "                raise\n",
    "        if len(candidates) == 0:\n",
    "            results.append([])\n",
    "            continue\n",
    "\n",
    "        doc_embedding = model.encode([text])\n",
    "        candidate_embeddings = model.encode(candidates)\n",
    "\n",
    "        keywords = mmr(doc_embedding, candidate_embeddings, candidates, top_n=5, diversity=0.2)\n",
    "        results.append(keywords)\n",
    "\n",
    "    return results\n",
    "def mmr(doc_embedding, candidate_embeddings, words, top_n, diversity):\n",
    "    \"\"\"다양성을 고려한 최대 마진 적중률(MMR)을 계산하여 키워드를 추출합니다.\"\"\"\n",
    "    word_doc_similarity = cosine_similarity(candidate_embeddings, doc_embedding)\n",
    "    word_similarity = cosine_similarity(candidate_embeddings)\n",
    "\n",
    "    if len(word_doc_similarity) == 0 or len(word_similarity) == 0:\n",
    "        return []\n",
    "\n",
    "    keywords_idx = [np.argmax(word_doc_similarity)]\n",
    "    candidates_idx = [i for i in range(len(words)) if i != keywords_idx[0]]\n",
    "\n",
    "    for _ in range(top_n - 1):\n",
    "        candidate_similarities = word_doc_similarity[candidates_idx, :]\n",
    "        target_similarities = np.max(word_similarity[candidates_idx][:, keywords_idx], axis=1)\n",
    "        mmr = (1 - diversity) * candidate_similarities - diversity * target_similarities.reshape(-1, 1)\n",
    "\n",
    "        if mmr.size == 0:\n",
    "            break\n",
    "\n",
    "        mmr_idx = candidates_idx[np.argmax(mmr)]\n",
    "        keywords_idx.append(mmr_idx)\n",
    "        candidates_idx.remove(mmr_idx)\n",
    "\n",
    "    return [words[idx] for idx in keywords_idx]\n",
    "\n"
   ]
  },
  {
   "cell_type": "code",
   "execution_count": 15,
   "metadata": {},
   "outputs": [
    {
     "name": "stderr",
     "output_type": "stream",
     "text": [
      "                                                                                \r"
     ]
    }
   ],
   "source": [
    "import pyarrow.csv as pc\n",
    "\n",
    "# 뉴스 내용을 포함한 CSV 파일 읽기\n",
    "today = datetime.datetime.today().strftime(\"%Y-%m-%d\")\n",
    "news_contents_df = spark.read.csv(\"hdfs:/test/2024-06-29.csv\", header=True, inferSchema=True, encoding=\"utf-8\")\n",
    "# news_contents_df = pc.read_csv('/test/2024-06-29.csv')\n",
    "# keyword_ext UDF 적용하여 키워드 추출\n",
    "news_rdd = news_contents_df.select(\"content\").rdd.map(lambda row: row[0])\n",
    "keywords_rdd = news_rdd.mapPartitions(keyword_ext)\n",
    "keywords_df = keywords_rdd.zipWithIndex().toDF([\"Keywords\", \"Index\"])\n",
    "\n",
    "# 원본 데이터프레임과 조인\n",
    "news_contents_df = news_contents_df.withColumn(\"Index\", monotonically_increasing_id())\n",
    "news_contents_df = news_contents_df.join(keywords_df, on=\"Index\").drop(\"Index\")\n",
    "\n",
    "# Keywords가 비어 있는 행은 필터링합니다.\n",
    "news_contents_df = news_contents_df.filter(size(col(\"Keywords\")) > 0)\n",
    "\n"
   ]
  },
  {
   "cell_type": "code",
   "execution_count": 16,
   "metadata": {},
   "outputs": [
    {
     "name": "stderr",
     "output_type": "stream",
     "text": [
      "                                                                                \r"
     ]
    }
   ],
   "source": [
    "from pyspark.sql.functions import udf, col, explode\n",
    "from pyspark.ml.linalg import SparseVector\n",
    "from pyspark.sql.types import ArrayType, StringType\n",
    "\n",
    "# CountVectorizer를 사용하여 키워드 빈도 계산 준비\n",
    "cv = CountVectorizer_pyspark(inputCol=\"Keywords\", outputCol=\"KeywordCounts\")\n",
    "cv_model = cv.fit(news_contents_df)\n",
    "keyword_counts_df = cv_model.transform(news_contents_df)\n",
    "\n",
    "# 각 키워드의 개수를 추출하는 UDF 정의\n",
    "def extract_keywords(vec, vocab):\n",
    "    indices = vec.indices\n",
    "    return [vocab[i] for i in indices]\n",
    "\n",
    "vocab = cv_model.vocabulary\n",
    "extract_keywords_udf = udf(lambda vec: extract_keywords(vec, vocab), ArrayType(StringType()))\n",
    "\n",
    "# KeywordCounts 열을 사용하여 키워드 추출\n",
    "keywords_exploded_df = keyword_counts_df.withColumn(\"KeywordsList\", extract_keywords_udf(col(\"KeywordCounts\")))\n",
    "\n",
    "# 각 키워드를 개별 행으로 펼침\n",
    "keywords_exploded_df = keywords_exploded_df.withColumn(\"Keyword\", explode(col(\"KeywordsList\")))\n",
    "\n",
    "# 키워드별로 그룹화하고 발생 횟수 계산\n",
    "final_keyword_counts = keywords_exploded_df.groupBy(\"Keyword\").count()\n",
    "\n",
    "# 결과 확인\n",
    "# final_keyword_counts.show(truncate=False)"
   ]
  },
  {
   "cell_type": "code",
   "execution_count": 17,
   "metadata": {},
   "outputs": [],
   "source": [
    "sorted_final_keyword_counts = final_keyword_counts.orderBy(col(\"count\").desc())\n",
    "# new_table=sorted_final_keyword_counts\n",
    "# 결과 확인\n",
    "# new_table.show(truncate=False)"
   ]
  },
  {
   "cell_type": "code",
   "execution_count": null,
   "metadata": {},
   "outputs": [
    {
     "name": "stderr",
     "output_type": "stream",
     "text": [
      "24/07/04 03:04:28 WARN SparkSession: Using an existing Spark session; only runtime SQL configurations will take effect.\n"
     ]
    }
   ],
   "source": [
    "# spark =  SparkSession \\\n",
    "#         .builder \\\n",
    "#         .config(\"spark.driver.extraClassPath\", \"/home/ksk/mysql-connector-j-9.0.0/mysql-connector-j-9.0.0.jar\") \\\n",
    "#         .appName('pyspark-db-connect') \\\n",
    "#         .getOrCreate()"
   ]
  },
  {
   "cell_type": "code",
   "execution_count": null,
   "metadata": {},
   "outputs": [
    {
     "name": "stderr",
     "output_type": "stream",
     "text": [
      "                                                                                \r"
     ]
    }
   ],
   "source": [
    "# df = spark.read.csv('file:///home/ksk/mini/2024-07-01.csv')"
   ]
  },
  {
   "cell_type": "code",
   "execution_count": 18,
   "metadata": {},
   "outputs": [
    {
     "name": "stderr",
     "output_type": "stream",
     "text": [
      "                                                                                \r"
     ]
    }
   ],
   "source": [
    "# MySQL 연결 설정\n",
    "jdbc_url = \"jdbc:mysql://43.202.5.70:3306/encore_web\"\n",
    "db_properties = {\n",
    "    \"user\": \"class5\",\n",
    "    \"password\": \"EnCoRo!23\",\n",
    "    \"driver\": \"com.mysql.cj.jdbc.Driver\"\n",
    "}\n",
    "\n",
    "# 데이터프레임을 MySQL 데이터베이스에 저장\n",
    "sorted_final_keyword_counts.write \\\n",
    "    .format(\"jdbc\") \\\n",
    "    .option(\"url\", jdbc_url) \\\n",
    "    .option(\"dbtable\", \"table_2024_06_29\") \\\n",
    "    .option(\"user\", db_properties[\"user\"]) \\\n",
    "    .option(\"password\", db_properties[\"password\"]) \\\n",
    "    .option(\"driver\", db_properties[\"driver\"]) \\\n",
    "    .mode(\"overwrite\") \\\n",
    "    .save()\n"
   ]
  },
  {
   "cell_type": "markdown",
   "metadata": {},
   "source": []
  },
  {
   "cell_type": "markdown",
   "metadata": {},
   "source": []
  },
  {
   "cell_type": "code",
   "execution_count": null,
   "metadata": {},
   "outputs": [],
   "source": [
    "DATABASES = {\n",
    "    'default': {\n",
    "        'ENGINE': 'django.db.backends.mysql',\n",
    "        'NAME': 'encore_web',\n",
    "        'USER': 'class5',\n",
    "        'PASSWORD': 'EnCoRo!23',\n",
    "        'HOST': '43.202.5.70',\n",
    "        'PORT': '3306',\n",
    "    }\n",
    "}"
   ]
  },
  {
   "cell_type": "code",
   "execution_count": null,
   "metadata": {},
   "outputs": [],
   "source": [
    "new_table"
   ]
  }
 ],
 "metadata": {
  "kernelspec": {
   "display_name": "Python 3",
   "language": "python",
   "name": "python3"
  },
  "language_info": {
   "codemirror_mode": {
    "name": "ipython",
    "version": 3
   },
   "file_extension": ".py",
   "mimetype": "text/x-python",
   "name": "python",
   "nbconvert_exporter": "python",
   "pygments_lexer": "ipython3",
   "version": "3.10.12"
  }
 },
 "nbformat": 4,
 "nbformat_minor": 2
}
